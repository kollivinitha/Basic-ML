{
  "nbformat": 4,
  "nbformat_minor": 0,
  "metadata": {
    "colab": {
      "name": "Vinitha 9.ipynb",
      "provenance": [],
      "authorship_tag": "ABX9TyM4d0gLQh8c639i1k8WL4wb",
      "include_colab_link": true
    },
    "kernelspec": {
      "name": "python3",
      "display_name": "Python 3"
    },
    "language_info": {
      "name": "python"
    }
  },
  "cells": [
    {
      "cell_type": "markdown",
      "metadata": {
        "id": "view-in-github",
        "colab_type": "text"
      },
      "source": [
        "<a href=\"https://colab.research.google.com/github/kollivinitha/Basic-ML/blob/main/Vinitha_9.ipynb\" target=\"_parent\"><img src=\"https://colab.research.google.com/assets/colab-badge.svg\" alt=\"Open In Colab\"/></a>"
      ]
    },
    {
      "cell_type": "markdown",
      "metadata": {
        "id": "SuC2z8dn-yVf"
      },
      "source": [
        "Python Program for finding the sum of n natural numbers"
      ]
    },
    {
      "cell_type": "code",
      "metadata": {
        "colab": {
          "base_uri": "https://localhost:8080/"
        },
        "id": "KhveZn3X-86n",
        "outputId": "899da531-58c9-410a-d84a-12603f65a133"
      },
      "source": [
        "n=int(input())\n",
        "sum=0\n",
        "for i in range(1,n+1):\n",
        "    sum=sum+i\n",
        "print(sum)"
      ],
      "execution_count": null,
      "outputs": [
        {
          "output_type": "stream",
          "text": [
            "4\n",
            "10\n"
          ],
          "name": "stdout"
        }
      ]
    },
    {
      "cell_type": "markdown",
      "metadata": {
        "id": "TBUcFWXgExT-"
      },
      "source": [
        "Python Program for detecting whether a number is even or odd"
      ]
    },
    {
      "cell_type": "code",
      "metadata": {
        "colab": {
          "base_uri": "https://localhost:8080/"
        },
        "id": "gAoK4ULME-ya",
        "outputId": "48db7b5b-af04-4965-ebe7-e7117d789887"
      },
      "source": [
        "s=int(input())\n",
        "if(s%2==0):\n",
        "    print(\"The number is Even\")\n",
        "else:\n",
        "    print (\"The number is Odd\")"
      ],
      "execution_count": null,
      "outputs": [
        {
          "output_type": "stream",
          "text": [
            "4\n",
            "The number is Even\n"
          ],
          "name": "stdout"
        }
      ]
    },
    {
      "cell_type": "markdown",
      "metadata": {
        "id": "RdOtdgVxGba8"
      },
      "source": [
        "Python Program for checking whether the is Palindrome or not"
      ]
    },
    {
      "cell_type": "code",
      "metadata": {
        "colab": {
          "base_uri": "https://localhost:8080/"
        },
        "id": "UyQq-ryEHBeW",
        "outputId": "a10edb1d-4462-4a6f-8c5c-5bb3fe2fd4df"
      },
      "source": [
        "s=input()\n",
        "Reverse=s[::]\n",
        "temp=s\n",
        "if(temp==Reverse):\n",
        "    print(\"Palindrome\")\n",
        "else:\n",
        "    print (\"Not Palindrome\")"
      ],
      "execution_count": null,
      "outputs": [
        {
          "output_type": "stream",
          "text": [
            "Seves\n",
            "Palindrome\n"
          ],
          "name": "stdout"
        }
      ]
    }
  ]
}